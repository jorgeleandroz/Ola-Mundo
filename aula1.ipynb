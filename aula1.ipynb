{
  "nbformat": 4,
  "nbformat_minor": 0,
  "metadata": {
    "colab": {
      "provenance": [],
      "authorship_tag": "ABX9TyPVkvXukL4VGjp3sKC7Hpsd",
      "include_colab_link": true
    },
    "kernelspec": {
      "name": "python3",
      "display_name": "Python 3"
    },
    "language_info": {
      "name": "python"
    }
  },
  "cells": [
    {
      "cell_type": "markdown",
      "metadata": {
        "id": "view-in-github",
        "colab_type": "text"
      },
      "source": [
        "<a href=\"https://colab.research.google.com/github/jorgeleandroz/Ola-Mundo/blob/main/aula1.ipynb\" target=\"_parent\"><img src=\"https://colab.research.google.com/assets/colab-badge.svg\" alt=\"Open In Colab\"/></a>"
      ]
    },
    {
      "cell_type": "code",
      "execution_count": 2,
      "metadata": {
        "colab": {
          "base_uri": "https://localhost:8080/"
        },
        "id": "f2tvA9-g9wvR",
        "outputId": "3c239234-6850-4d53-923c-1eac2e936cd9"
      },
      "outputs": [
        {
          "output_type": "stream",
          "name": "stdout",
          "text": [
            "hello world\n"
          ]
        }
      ],
      "source": [
        "#hello world e o começo de tudo!!\n",
        "print(\"hello world\")"
      ]
    },
    {
      "cell_type": "code",
      "source": [
        "x = 10\n",
        "nome = 'aluno'\n",
        "nota = 8.75\n",
        "fez_inscricao = True\n",
        "print(type(fez_inscricao))"
      ],
      "metadata": {
        "colab": {
          "base_uri": "https://localhost:8080/"
        },
        "id": "1KvxkOJ_-T-V",
        "outputId": "3350d951-51bc-4566-89ef-e42ee5c2b659"
      },
      "execution_count": 8,
      "outputs": [
        {
          "output_type": "stream",
          "name": "stdout",
          "text": [
            "<class 'bool'>\n"
          ]
        }
      ]
    },
    {
      "cell_type": "code",
      "source": [
        "nome = input(\"Digite um nome:\")\n"
      ],
      "metadata": {
        "colab": {
          "base_uri": "https://localhost:8080/"
        },
        "id": "ZjxB5q3JAJGL",
        "outputId": "81948907-ab2b-426e-aac0-b4045254c1fa"
      },
      "execution_count": 1,
      "outputs": [
        {
          "name": "stdout",
          "output_type": "stream",
          "text": [
            "Digite um nome:joaquim\n"
          ]
        }
      ]
    },
    {
      "cell_type": "code",
      "source": [
        "print(nome)"
      ],
      "metadata": {
        "colab": {
          "base_uri": "https://localhost:8080/"
        },
        "id": "L42k9wfGAlKG",
        "outputId": "fafec215-579a-450e-ed93-294d3315e484"
      },
      "execution_count": 2,
      "outputs": [
        {
          "output_type": "stream",
          "name": "stdout",
          "text": [
            "joaquim\n"
          ]
        }
      ]
    },
    {
      "cell_type": "code",
      "source": [
        "#formatadoes de caracteres\n",
        "print(\"Olá %s, bem-vindo a diciplina de programação. Parabéns pelo seu primeiro hello world\" % nome)\n",
        "\n",
        "#f-string\n",
        "print(f\"Olá {nome}, brm-vindo a diciplina de programação. Parabéns pelo seu primeiro hello world\")"
      ],
      "metadata": {
        "colab": {
          "base_uri": "https://localhost:8080/"
        },
        "id": "1jylfZdpAysQ",
        "outputId": "0ccfcf9d-355c-4948-fb6c-e09c4c09ff64"
      },
      "execution_count": 3,
      "outputs": [
        {
          "output_type": "stream",
          "name": "stdout",
          "text": [
            "Olá joaquim, bem-vindo a diciplina de programação. Parabéns pelo seu primeiro hello world\n",
            "Olá joaquim, brm-vindo a diciplina de programação. Parabéns pelo seu primeiro hello world\n"
          ]
        }
      ]
    },
    {
      "cell_type": "code",
      "source": [
        "Nota_1 = int(input(\"Digite a primeira nota :\"))\n",
        "Nota_2 = int(input(\"Digite a segunda nota :\"))\n",
        "Nota_3 = int(input(\"Digite a terceira nota :\"))\n",
        "Nota_4 = int(input(\"Digite a quarta nota :\"))\n",
        "#observe que utilizamos a funçao int(), pois sem ela, o Python entenderia que as notas seria string"
      ],
      "metadata": {
        "colab": {
          "base_uri": "https://localhost:8080/"
        },
        "id": "R_4-8JY3CJ4o",
        "outputId": "1df62011-4fbd-4d47-d0fd-a713413f5fc9"
      },
      "execution_count": 34,
      "outputs": [
        {
          "name": "stdout",
          "output_type": "stream",
          "text": [
            "Digite a primeira nota :5\n",
            "Digite a segunda nota :6\n",
            "Digite a terceira nota :7\n",
            "Digite a quarta nota :9\n"
          ]
        }
      ]
    },
    {
      "cell_type": "code",
      "source": [
        "#condiçao para a aprovaçao do aluno.\n",
        "media = (Nota_1+Nota_2+Nota_3+Nota_4)/4\n",
        "\n",
        "if media >=6:\n",
        "    situacao = \"Aprovado\"\n",
        "else:\n",
        "    situacao = \"Reprovado\""
      ],
      "metadata": {
        "id": "9wVOy4RpCvvb"
      },
      "execution_count": 35,
      "outputs": []
    },
    {
      "cell_type": "code",
      "source": [
        "#dadas as notas mostramos a media final e a situaçao do aluno.\n",
        "print(f\"A media das notas é: {media}\")\n",
        "print(f\"Situaçao do aluno: {situacao}\")"
      ],
      "metadata": {
        "colab": {
          "base_uri": "https://localhost:8080/"
        },
        "id": "uldJlohkDKhv",
        "outputId": "d95b158f-9ae5-4084-cfb2-33e5b6e7e9d9"
      },
      "execution_count": 37,
      "outputs": [
        {
          "output_type": "stream",
          "name": "stdout",
          "text": [
            "A media das notas é: 6.75\n",
            "Situaçao do aluno: Aprovado\n"
          ]
        }
      ]
    }
  ]
}