{
  "nbformat": 4,
  "nbformat_minor": 0,
  "metadata": {
    "colab": {
      "provenance": [],
      "authorship_tag": "ABX9TyOz1R4xYD36fpBYiSynb+Tq",
      "include_colab_link": true
    },
    "kernelspec": {
      "name": "python3",
      "display_name": "Python 3"
    },
    "language_info": {
      "name": "python"
    }
  },
  "cells": [
    {
      "cell_type": "markdown",
      "metadata": {
        "id": "view-in-github",
        "colab_type": "text"
      },
      "source": [
        "<a href=\"https://colab.research.google.com/github/jorgeleandroz/Ola-Mundo/blob/main/Untitled2.ipynb\" target=\"_parent\"><img src=\"https://colab.research.google.com/assets/colab-badge.svg\" alt=\"Open In Colab\"/></a>"
      ]
    },
    {
      "cell_type": "code",
      "execution_count": 2,
      "metadata": {
        "colab": {
          "base_uri": "https://localhost:8080/"
        },
        "id": "3zrYPbp8pVdd",
        "outputId": "ba87db8c-6c1a-4cf5-b029-63e5a2d9f193"
      },
      "outputs": [
        {
          "output_type": "stream",
          "name": "stdout",
          "text": [
            "Digite o seu peso: \t\n",
            "85\n",
            "Qual a sua altura? \t\n",
            "1.70\n",
            "\n",
            "\n",
            "Seu IMC e de: 29.41\n",
            "Voce esta acima do peso normal \n",
            "\n"
          ]
        }
      ],
      "source": [
        "#Programa de Calculo de IMC\n",
        "def calculaIMC(kg, altura):\n",
        "    imc = kg / (altura * altura)\n",
        "    return imc\n",
        "\n",
        "peso = input(\"Digite o seu peso: \\t\\n\")\n",
        "altura = input(\"Qual a sua altura? \\t\\n\")\n",
        "print(\"\\n\")\n",
        "\n",
        "if peso != '' and altura != '':\n",
        "    peso = float(peso)\n",
        "    altura = float(altura)\n",
        "\n",
        "    result = float(calculaIMC(peso, altura))\n",
        "\n",
        "    print(f\"Seu IMC e de: {result:.2f}\")\n",
        "\n",
        "    if result < 18.5:\n",
        "      print(\"Voce esta abaixo do peso normal \\n\")\n",
        "    elif result <= 24.9:\n",
        "      print(\"Voce esta no peso normal \\n\" )\n",
        "    elif result <= 29.9:\n",
        "      print(\"Voce esta acima do peso normal \\n\")\n",
        "    elif result <= 34.9:\n",
        "      print(\"Voce esta com obesidade nivel 1 \\n\")\n",
        "    elif result <= 39.9:\n",
        "      print(\"Voce esta com obesidade nivel 2 \\n\")\n",
        "    else:\n",
        "      print(\"Voce esta com obesidade nivel 3 \\n\")\n",
        "else:\n",
        "  print(\"Por favor, preencha por completo!\")"
      ]
    }
  ]
}